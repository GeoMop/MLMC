{
 "cells": [
  {
   "cell_type": "markdown",
   "metadata": {},
   "source": [
    "# MLMC tutorial 01"
   ]
  },
  {
   "cell_type": "markdown",
   "metadata": {},
   "source": [
    "Install mlmc library from Github repository in the current Jupyter kernel:"
   ]
  },
  {
   "cell_type": "code",
   "execution_count": 4,
   "metadata": {
    "pycharm": {
     "name": "#%%\n"
    }
   },
   "outputs": [
    {
     "name": "stdout",
     "output_type": "stream",
     "text": [
      "\u001B[33mWARNING: Skipping mlmc as it is not installed.\u001B[0m\n",
      "Defaulting to user installation because normal site-packages is not writeable\n",
      "Collecting git+https://github.com/GeoMop/MLMC@MS_plots_estimates\n",
      "  Cloning https://github.com/GeoMop/MLMC (to revision MS_plots_estimates) to /tmp/pip-req-build-sbk1jnc7\n",
      "Building wheels for collected packages: mlmc\n",
      "  Building wheel for mlmc (setup.py) ... \u001B[?25ldone\n",
      "\u001B[?25h  Created wheel for mlmc: filename=mlmc-0.1.post0-py3-none-any.whl size=95751 sha256=aff1a83f60460b4579397196807db594233ab39b7f6324a11e749272082b425b\n",
      "  Stored in directory: /tmp/pip-ephem-wheel-cache-9xsf_jk3/wheels/1c/b7/92/56d1e60ef41f701e6af203a61a84793d6b431f767cc41d75a9\n",
      "Successfully built mlmc\n",
      "Installing collected packages: mlmc\n",
      "Successfully installed mlmc-0.1.post0\n",
      "\u001B[33mWARNING: You are using pip version 20.2.4; however, version 21.0.1 is available.\n",
      "You should consider upgrading via the '/usr/bin/python3 -m pip install --upgrade pip' command.\u001B[0m\n"
     ]
    }
   ],
   "source": [
    "# import sys\n",
    "# !{sys.executable} -m pip install git+https://github.com/GeoMop/MLMC\n",
    "#@TODO: Get it to work after MS_plots_estimates merge\n",
    "import sys\n",
    "\n",
    "!{sys.executable} -m pip uninstall -y mlmc\n",
    "!{sys.executable} -m pip install \"git+https://github.com/GeoMop/MLMC@MS_plots_estimates\"\n",
    "#!{sys.executable} -m pip install -e git+https://github.com/GeoMop/MLMC@MS_plots_estimates"
   ]
  },
  {
   "cell_type": "markdown",
   "metadata": {
    "pycharm": {
     "name": "#%% md\n"
    }
   },
   "source": [
    "Ensure that mlmc library is installed:"
   ]
  },
  {
   "cell_type": "code",
   "execution_count": null,
   "metadata": {
    "pycharm": {
     "name": "#%%\n"
    }
   },
   "outputs": [],
   "source": [
    "import mlmc"
   ]
  },
  {
   "cell_type": "code",
   "execution_count": 9,
   "metadata": {},
   "outputs": [
    {
     "ename": "ModuleNotFoundError",
     "evalue": "No module named 'mlmc.quantity_spec'",
     "output_type": "error",
     "traceback": [
      "\u001B[0;31m---------------------------------------------------------------------------\u001B[0m",
      "\u001B[0;31mModuleNotFoundError\u001B[0m                       Traceback (most recent call last)",
      "\u001B[0;32m<ipython-input-9-6509cc5dabf3>\u001B[0m in \u001B[0;36m<module>\u001B[0;34m\u001B[0m\n\u001B[1;32m      4\u001B[0m \u001B[0;32mfrom\u001B[0m \u001B[0mmlmc\u001B[0m\u001B[0;34m.\u001B[0m\u001B[0msample_storage\u001B[0m \u001B[0;32mimport\u001B[0m \u001B[0mMemory\u001B[0m\u001B[0;34m\u001B[0m\u001B[0;34m\u001B[0m\u001B[0m\n\u001B[1;32m      5\u001B[0m \u001B[0;32mfrom\u001B[0m \u001B[0mmlmc\u001B[0m\u001B[0;34m.\u001B[0m\u001B[0msampling_pool\u001B[0m \u001B[0;32mimport\u001B[0m \u001B[0mOneProcessPool\u001B[0m\u001B[0;34m\u001B[0m\u001B[0;34m\u001B[0m\u001B[0m\n\u001B[0;32m----> 6\u001B[0;31m \u001B[0;32mfrom\u001B[0m \u001B[0mnew_simulation_shooting\u001B[0m \u001B[0;32mimport\u001B[0m \u001B[0mShootingSimulation\u001B[0m\u001B[0;34m\u001B[0m\u001B[0;34m\u001B[0m\u001B[0m\n\u001B[0m\u001B[1;32m      7\u001B[0m \u001B[0;32mfrom\u001B[0m \u001B[0mmlmc\u001B[0m\u001B[0;34m.\u001B[0m\u001B[0mquantity\u001B[0m \u001B[0;32mimport\u001B[0m \u001B[0mmake_root_quantity\u001B[0m\u001B[0;34m\u001B[0m\u001B[0;34m\u001B[0m\u001B[0m\n\u001B[1;32m      8\u001B[0m \u001B[0;32mfrom\u001B[0m \u001B[0mmlmc\u001B[0m\u001B[0;34m.\u001B[0m\u001B[0mquantity_estimate\u001B[0m \u001B[0;32mimport\u001B[0m \u001B[0mmoments\u001B[0m\u001B[0;34m,\u001B[0m \u001B[0mestimate_mean\u001B[0m\u001B[0;34m\u001B[0m\u001B[0;34m\u001B[0m\u001B[0m\n",
      "\u001B[0;32m~/Documents/MLMC_docs/examples/shooting/new_simulation_shooting.py\u001B[0m in \u001B[0;36m<module>\u001B[0;34m\u001B[0m\n\u001B[1;32m      7\u001B[0m \u001B[0;32mimport\u001B[0m \u001B[0mscipy\u001B[0m\u001B[0;34m.\u001B[0m\u001B[0mstats\u001B[0m \u001B[0;32mas\u001B[0m \u001B[0mstats\u001B[0m\u001B[0;34m\u001B[0m\u001B[0;34m\u001B[0m\u001B[0m\n\u001B[1;32m      8\u001B[0m \u001B[0;32mfrom\u001B[0m \u001B[0mmlmc\u001B[0m\u001B[0;34m.\u001B[0m\u001B[0msim\u001B[0m\u001B[0;34m.\u001B[0m\u001B[0msimulation\u001B[0m \u001B[0;32mimport\u001B[0m \u001B[0mSimulation\u001B[0m\u001B[0;34m\u001B[0m\u001B[0;34m\u001B[0m\u001B[0m\n\u001B[0;32m----> 9\u001B[0;31m \u001B[0;32mfrom\u001B[0m \u001B[0mmlmc\u001B[0m\u001B[0;34m.\u001B[0m\u001B[0mquantity_spec\u001B[0m \u001B[0;32mimport\u001B[0m \u001B[0mQuantitySpec\u001B[0m\u001B[0;34m\u001B[0m\u001B[0;34m\u001B[0m\u001B[0m\n\u001B[0m\u001B[1;32m     10\u001B[0m \u001B[0;32mfrom\u001B[0m \u001B[0mmlmc\u001B[0m\u001B[0;34m.\u001B[0m\u001B[0mlevel_simulation\u001B[0m \u001B[0;32mimport\u001B[0m \u001B[0mLevelSimulation\u001B[0m\u001B[0;34m\u001B[0m\u001B[0;34m\u001B[0m\u001B[0m\n\u001B[1;32m     11\u001B[0m \u001B[0;34m\u001B[0m\u001B[0m\n",
      "\u001B[0;31mModuleNotFoundError\u001B[0m: No module named 'mlmc.quantity_spec'"
     ]
    }
   ],
   "source": [
    "import numpy as np\n",
    "import mlmc.estimator\n",
    "from mlmc.sampler import Sampler\n",
    "from mlmc.sample_storage import Memory\n",
    "from mlmc.sampling_pool import OneProcessPool\n",
    "from new_simulation_shooting import ShootingSimulation\n",
    "from mlmc.quantity import make_root_quantity\n",
    "from mlmc.quantity_estimate import moments, estimate_mean\n",
    "from mlmc.moments import Legendre"
   ]
  },
  {
   "cell_type": "markdown",
   "metadata": {
    "pycharm": {
     "name": "#%% md\n"
    }
   },
   "source": [
    "Set basic parameters"
   ]
  },
  {
   "cell_type": "code",
   "execution_count": 9,
   "metadata": {
    "pycharm": {
     "name": "#%%\n"
    }
   },
   "outputs": [
    {
     "ename": "AttributeError",
     "evalue": "module 'mlmc.estimator' has no attribute 'determine_level_parameters'",
     "output_type": "error",
     "traceback": [
      "\u001B[0;31m---------------------------------------------------------------------------\u001B[0m",
      "\u001B[0;31mAttributeError\u001B[0m                            Traceback (most recent call last)",
      "\u001B[0;32m<ipython-input-9-5452d2b3e5bb>\u001B[0m in \u001B[0;36m<module>\u001B[0;34m\u001B[0m\n\u001B[1;32m      4\u001B[0m \u001B[0mstep_range\u001B[0m \u001B[0;34m=\u001B[0m \u001B[0;34m[\u001B[0m\u001B[0;36m0.05\u001B[0m\u001B[0;34m,\u001B[0m \u001B[0;36m0.005\u001B[0m\u001B[0;34m]\u001B[0m\u001B[0;34m\u001B[0m\u001B[0;34m\u001B[0m\u001B[0m\n\u001B[1;32m      5\u001B[0m \u001B[0;31m# Determine level parameters at each level (In this case, simulation step at each level) are set automatically\u001B[0m\u001B[0;34m\u001B[0m\u001B[0;34m\u001B[0m\u001B[0;34m\u001B[0m\u001B[0m\n\u001B[0;32m----> 6\u001B[0;31m \u001B[0mlevel_parameters\u001B[0m \u001B[0;34m=\u001B[0m \u001B[0mmlmc\u001B[0m\u001B[0;34m.\u001B[0m\u001B[0mestimator\u001B[0m\u001B[0;34m.\u001B[0m\u001B[0mdetermine_level_parameters\u001B[0m\u001B[0;34m(\u001B[0m\u001B[0mn_levels\u001B[0m\u001B[0;34m,\u001B[0m \u001B[0mstep_range\u001B[0m\u001B[0;34m)\u001B[0m\u001B[0;34m\u001B[0m\u001B[0;34m\u001B[0m\u001B[0m\n\u001B[0m\u001B[1;32m      7\u001B[0m \u001B[0;31m# Determine number of samples at each level\u001B[0m\u001B[0;34m\u001B[0m\u001B[0;34m\u001B[0m\u001B[0;34m\u001B[0m\u001B[0m\n",
      "\u001B[0;31mAttributeError\u001B[0m: module 'mlmc.estimator' has no attribute 'determine_level_parameters'"
     ]
    }
   ],
   "source": [
    "# Number of MLMC levels\n",
    "n_levels = 2\n",
    "# step_range [simulation step at the coarsest level, simulation step at the finest level]\n",
    "step_range = [0.05, 0.005]\n",
    "# Determine level parameters at each level (In this case, simulation step at each level) are set automatically\n",
    "level_parameters = mlmc.estimator.determine_level_parameters(n_levels, step_range)\n",
    "# Determine number of samples at each level"
   ]
  },
  {
   "cell_type": "code",
   "execution_count": null,
   "metadata": {
    "pycharm": {
     "name": "#%%\n"
    }
   },
   "outputs": [],
   "source": [
    "sampling_pool = OneProcessPool()\n",
    "\n",
    "simulation_config = {\n",
    "    \"start_position\": np.array([0, 0]),\n",
    "    \"start_velocity\": np.array([10, 0]),\n",
    "    \"area_borders\":  np.array([-100, 200, -300, 400]),\n",
    "    \"max_time\": 10,\n",
    "    \"complexity\": 2,  # used for initial estimate of number of operations per sample\n",
    "    'fields_params': dict(model='gauss', dim=1, sigma=1, corr_length=0.1),\n",
    "}\n",
    "\n",
    "# Create simulation factory\n",
    "simulation_factory = ShootingSimulation(config=simulation_config)\n",
    "\n",
    "# Create HDF sample storage\n",
    "sample_storage = Memory()\n",
    "\n",
    "# Create sampler, it manages sample scheduling and so on\n",
    "sampler = Sampler(sample_storage=sample_storage, sampling_pool=sampling_pool, sim_factory=simulation_factory,\n",
    "                  level_parameters=level_parameters)"
   ]
  },
  {
   "cell_type": "code",
   "execution_count": null,
   "metadata": {
    "pycharm": {
     "name": "#%%\n"
    }
   },
   "outputs": [],
   "source": [
    "if n_samples is not None:\n",
    "    sampler.set_initial_n_samples(n_samples)\n",
    "else:\n",
    "    sampler.set_initial_n_samples()\n",
    "sampler.schedule_samples()\n",
    "sampler.ask_sampling_pool_for_samples()"
   ]
  },
  {
   "cell_type": "code",
   "execution_count": null,
   "metadata": {
    "pycharm": {
     "name": "#%%\n"
    }
   },
   "outputs": [],
   "source": [
    "running = 1\n",
    "while running > 0:\n",
    "    running = 0\n",
    "    running += sampler.ask_sampling_pool_for_samples()\n",
    "    print(\"N running: \", running)\n"
   ]
  },
  {
   "cell_type": "code",
   "execution_count": 11,
   "metadata": {},
   "outputs": [
    {
     "ename": "NameError",
     "evalue": "name 'ProcessShooting' is not defined",
     "output_type": "error",
     "traceback": [
      "\u001B[0;31m---------------------------------------------------------------------------\u001B[0m",
      "\u001B[0;31mNameError\u001B[0m                                 Traceback (most recent call last)",
      "\u001B[0;32m<ipython-input-11-fa0283f0e627>\u001B[0m in \u001B[0;36m<module>\u001B[0;34m\u001B[0m\n\u001B[1;32m      4\u001B[0m \u001B[0;31m# step_range [simulation step at the coarsest level, simulation step at the finest level]\u001B[0m\u001B[0;34m\u001B[0m\u001B[0;34m\u001B[0m\u001B[0;34m\u001B[0m\u001B[0m\n\u001B[1;32m      5\u001B[0m \u001B[0;31m# Determine level parameters at each level (In this case, simulation step at each level) are set automatically\u001B[0m\u001B[0;34m\u001B[0m\u001B[0;34m\u001B[0m\u001B[0;34m\u001B[0m\u001B[0m\n\u001B[0;32m----> 6\u001B[0;31m \u001B[0mlevel_parameters\u001B[0m \u001B[0;34m=\u001B[0m \u001B[0mProcessShooting\u001B[0m\u001B[0;34m.\u001B[0m\u001B[0mdetermine_level_parameters\u001B[0m\u001B[0;34m(\u001B[0m\u001B[0mn_levels\u001B[0m\u001B[0;34m,\u001B[0m \u001B[0mstep_range\u001B[0m\u001B[0;34m)\u001B[0m\u001B[0;34m\u001B[0m\u001B[0;34m\u001B[0m\u001B[0m\n\u001B[0m\u001B[1;32m      7\u001B[0m \u001B[0;31m# Determine number of samples at each level\u001B[0m\u001B[0;34m\u001B[0m\u001B[0;34m\u001B[0m\u001B[0;34m\u001B[0m\u001B[0m\n",
      "\u001B[0;31mNameError\u001B[0m: name 'ProcessShooting' is not defined"
     ]
    }
   ],
   "source": []
  },
  {
   "cell_type": "code",
   "execution_count": null,
   "metadata": {},
   "outputs": [],
   "source": []
  }
 ],
 "metadata": {
  "celltoolbar": "Raw Cell Format",
  "kernelspec": {
   "display_name": "Python 3",
   "language": "python",
   "name": "python3"
  },
  "language_info": {
   "codemirror_mode": {
    "name": "ipython",
    "version": 3
   },
   "file_extension": ".py",
   "mimetype": "text/x-python",
   "name": "python",
   "nbconvert_exporter": "python",
   "pygments_lexer": "ipython3",
   "version": "3.8.5"
  }
 },
 "nbformat": 4,
 "nbformat_minor": 4
}